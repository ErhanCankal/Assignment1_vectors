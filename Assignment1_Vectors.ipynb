{
 "cells": [
  {
   "cell_type": "code",
   "execution_count": 1,
   "id": "57d66782",
   "metadata": {},
   "outputs": [
    {
     "name": "stdout",
     "output_type": "stream",
     "text": [
      "Defaulting to user installation because normal site-packages is not writeable\n",
      "Requirement already satisfied: numpy in c:\\users\\toshiba\\appdata\\roaming\\python\\python310\\site-packages (1.22.4)\n"
     ]
    },
    {
     "name": "stderr",
     "output_type": "stream",
     "text": [
      "WARNING: You are using pip version 22.0.4; however, version 22.1.2 is available.\n",
      "You should consider upgrading via the 'C:\\Program Files\\Python310\\python.exe -m pip install --upgrade pip' command.\n"
     ]
    }
   ],
   "source": [
    "!pip install numpy"
   ]
  },
  {
   "cell_type": "code",
   "execution_count": 2,
   "id": "4bb60521",
   "metadata": {},
   "outputs": [
    {
     "name": "stdout",
     "output_type": "stream",
     "text": [
      "1.22.4\n"
     ]
    }
   ],
   "source": [
    "import numpy as np\n",
    "print(np.__version__)"
   ]
  },
  {
   "cell_type": "code",
   "execution_count": 9,
   "id": "c7d31eb0",
   "metadata": {},
   "outputs": [
    {
     "name": "stdout",
     "output_type": "stream",
     "text": [
      "(12.23, 13.32, 100, 36.32)\n"
     ]
    }
   ],
   "source": [
    "#Question 1\n",
    "orglist = (12.23,13.32,100,36.32)\n",
    "print(orglist)"
   ]
  },
  {
   "cell_type": "code",
   "execution_count": 10,
   "id": "874f896c",
   "metadata": {},
   "outputs": [
    {
     "name": "stdout",
     "output_type": "stream",
     "text": [
      "[ 12.23  13.32 100.    36.32]\n"
     ]
    }
   ],
   "source": [
    "ConvertedArray = np.array(org_list)\n",
    "print(ConvertedArray)"
   ]
  },
  {
   "cell_type": "code",
   "execution_count": 8,
   "id": "3a3a65cd",
   "metadata": {},
   "outputs": [],
   "source": [
    "#Question 2"
   ]
  },
  {
   "cell_type": "code",
   "execution_count": 20,
   "id": "1c0a79ac",
   "metadata": {},
   "outputs": [
    {
     "name": "stdout",
     "output_type": "stream",
     "text": [
      "[[ 2  3  4]\n",
      " [ 5  6  7]\n",
      " [ 8  9 10]]\n",
      "[[ 2  3  4]\n",
      " [ 5  6  7]\n",
      " [ 8  9 10]]\n"
     ]
    }
   ],
   "source": [
    "NumbersList = (2,3,4,5,6,7,8,9,10)\n",
    "listHolderArray = np.array(NumbersList)\n",
    "print(listHolderArray.reshape((3,3)))\n",
    "matrixd3 = listHolderArray.reshape((3,3))\n",
    "print(matrixd3)"
   ]
  },
  {
   "cell_type": "code",
   "execution_count": 24,
   "id": "98d19329",
   "metadata": {},
   "outputs": [
    {
     "name": "stdout",
     "output_type": "stream",
     "text": [
      "[0. 0. 0. 0. 0. 0. 0. 0. 0. 0.]\n"
     ]
    }
   ],
   "source": [
    "#Question 3\n",
    "arrayZeros = np.zeros(10)\n",
    "print(arrayZeros)"
   ]
  },
  {
   "cell_type": "code",
   "execution_count": 25,
   "id": "aea2c567",
   "metadata": {},
   "outputs": [],
   "source": [
    "#The 7th index is the value of 6 (starting from 0)\n",
    "arrayZeros[6] = 11"
   ]
  },
  {
   "cell_type": "code",
   "execution_count": 23,
   "id": "ba1ba7bc",
   "metadata": {},
   "outputs": [
    {
     "name": "stdout",
     "output_type": "stream",
     "text": [
      "[ 0.  0.  0.  0.  0.  0. 11.  0.  0.  0.]\n"
     ]
    }
   ],
   "source": [
    "print(arrayZeros)\n",
    "#The printed value is the 7th element of the array"
   ]
  },
  {
   "cell_type": "code",
   "execution_count": 30,
   "id": "f361bf73",
   "metadata": {},
   "outputs": [
    {
     "name": "stdout",
     "output_type": "stream",
     "text": [
      "[12 13 14 15 16 17 18 19 20 21 22 23 24 25 26 27 28 29 30 31 32 33 34 35\n",
      " 36 37]\n"
     ]
    }
   ],
   "source": [
    "#Question 4\n",
    "arrayofValuesFrom12to38 = np.arange(12,38)\n",
    "print(arrayofValuesFrom12to38)\n"
   ]
  },
  {
   "cell_type": "code",
   "execution_count": 31,
   "id": "3c54f661",
   "metadata": {},
   "outputs": [
    {
     "name": "stdout",
     "output_type": "stream",
     "text": [
      "[37 36 35 34 33 32 31 30 29 28 27 26 25 24 23 22 21 20 19 18 17 16 15 14\n",
      " 13 12]\n"
     ]
    }
   ],
   "source": [
    "#Question 5\n",
    "arrayofValuesFrom38to12 = arrayofValuesFrom12to38[::-1]\n",
    "print(arrayofValuesFrom38to12)"
   ]
  },
  {
   "cell_type": "code",
   "execution_count": 32,
   "id": "318f74b3",
   "metadata": {},
   "outputs": [
    {
     "name": "stdout",
     "output_type": "stream",
     "text": [
      "[1. 2. 3. 4.]\n"
     ]
    }
   ],
   "source": [
    "#Question 6\n",
    "orgIntValues = [1,2,3,4]\n",
    "floatValue=np.asfarray(orgIntValues)\n",
    "print(floatValue)"
   ]
  },
  {
   "cell_type": "code",
   "execution_count": 33,
   "id": "48986399",
   "metadata": {},
   "outputs": [
    {
     "name": "stdout",
     "output_type": "stream",
     "text": [
      "[1. 1. 1. 1. 1. 1. 1. 1. 1. 1. 1. 1. 1. 1. 1. 1. 1. 1. 1. 1. 1. 1. 1. 1.\n",
      " 1.]\n"
     ]
    }
   ],
   "source": [
    "#Question 7\n",
    "#In the Given Question the Size of 2-D array is assumed to be 5x5 matrix\n",
    "valuesofOne = np.ones(25)\n",
    "print(valuesofOne)"
   ]
  },
  {
   "cell_type": "code",
   "execution_count": 34,
   "id": "0054f861",
   "metadata": {},
   "outputs": [
    {
     "name": "stdout",
     "output_type": "stream",
     "text": [
      "[[1. 1. 1. 1. 1.]\n",
      " [1. 1. 1. 1. 1.]\n",
      " [1. 1. 1. 1. 1.]\n",
      " [1. 1. 1. 1. 1.]\n",
      " [1. 1. 1. 1. 1.]]\n"
     ]
    }
   ],
   "source": [
    "matrixd5 = valuesofOne.reshape(5,5)\n",
    "print(matrixd5)"
   ]
  },
  {
   "cell_type": "code",
   "execution_count": 35,
   "id": "c3455e33",
   "metadata": {},
   "outputs": [
    {
     "name": "stdout",
     "output_type": "stream",
     "text": [
      "[[1. 1. 1. 1. 1.]\n",
      " [1. 0. 0. 0. 1.]\n",
      " [1. 0. 0. 0. 1.]\n",
      " [1. 0. 0. 0. 1.]\n",
      " [1. 1. 1. 1. 1.]]\n"
     ]
    }
   ],
   "source": [
    "matrixd5[1:-1,1:-1] = 0\n",
    "print(matrixd5)"
   ]
  },
  {
   "cell_type": "code",
   "execution_count": 37,
   "id": "c07f5890",
   "metadata": {},
   "outputs": [
    {
     "name": "stdout",
     "output_type": "stream",
     "text": [
      "[1. 1. 1. 1. 1. 1. 1. 1. 1.]\n",
      "[[1. 1. 1.]\n",
      " [1. 1. 1.]\n",
      " [1. 1. 1.]]\n"
     ]
    }
   ],
   "source": [
    "#Question 8\n",
    "valuesofOne = np.ones(9)\n",
    "print(valuesofOne)\n",
    "matrixd3 = valuesofOne.reshape(3,3)\n",
    "print(matrixd3)\n"
   ]
  },
  {
   "cell_type": "code",
   "execution_count": 39,
   "id": "7807a10f",
   "metadata": {},
   "outputs": [
    {
     "data": {
      "text/plain": [
       "array([[0., 0., 0., 0., 0.],\n",
       "       [0., 1., 1., 1., 0.],\n",
       "       [0., 1., 1., 1., 0.],\n",
       "       [0., 1., 1., 1., 0.],\n",
       "       [0., 0., 0., 0., 0.]])"
      ]
     },
     "execution_count": 39,
     "metadata": {},
     "output_type": "execute_result"
    }
   ],
   "source": [
    "np.pad(matrixd3,pad_width = 1,mode='constant',constant_values = 0)"
   ]
  },
  {
   "cell_type": "code",
   "execution_count": 40,
   "id": "d967918f",
   "metadata": {},
   "outputs": [
    {
     "name": "stdout",
     "output_type": "stream",
     "text": [
      "Checkerboard:\n",
      "[[0. 1. 0. 1. 0. 1. 0. 1.]\n",
      " [1. 0. 1. 0. 1. 0. 1. 0.]\n",
      " [0. 1. 0. 1. 0. 1. 0. 1.]\n",
      " [1. 0. 1. 0. 1. 0. 1. 0.]\n",
      " [0. 1. 0. 1. 0. 1. 0. 1.]\n",
      " [1. 0. 1. 0. 1. 0. 1. 0.]\n",
      " [0. 1. 0. 1. 0. 1. 0. 1.]\n",
      " [1. 0. 1. 0. 1. 0. 1. 0.]]\n"
     ]
    }
   ],
   "source": [
    "#Question 9\n",
    "print(\"Checkerboard:\")\n",
    "checkerBoard = np.zeros((8,8))\n",
    "checkerBoard[1::2,::2] = 1\n",
    "checkerBoard[::2,1::2] = 1\n",
    "print(checkerBoard)"
   ]
  },
  {
   "cell_type": "code",
   "execution_count": 41,
   "id": "488f6e8d",
   "metadata": {},
   "outputs": [
    {
     "name": "stdout",
     "output_type": "stream",
     "text": [
      "[1 2 3 4 5 6 7 8]\n",
      "[[8 4 6]\n",
      " [1 2 3]]\n"
     ]
    }
   ],
   "source": [
    "#Question 10\n",
    "list = (1,2,3,4,5,6,7,8)\n",
    "array1 = np.array(list)\n",
    "tuple = ((8,4,6),(1,2,3))\n",
    "array2 = np.array(tuple)\n",
    "print(array1)\n",
    "print(array2)"
   ]
  },
  {
   "cell_type": "code",
   "execution_count": 42,
   "id": "cd252e25",
   "metadata": {},
   "outputs": [
    {
     "data": {
      "text/plain": [
       "array([10, 20, 30, 40, 50, 60, 70, 80, 90])"
      ]
     },
     "execution_count": 42,
     "metadata": {},
     "output_type": "execute_result"
    }
   ],
   "source": [
    "#Question 11\n",
    "array = [10,20,30]\n",
    "np.append(array,[[40,50,60],[70,80,90]])\n"
   ]
  },
  {
   "cell_type": "code",
   "execution_count": 43,
   "id": "bdb34785",
   "metadata": {},
   "outputs": [
    {
     "name": "stdout",
     "output_type": "stream",
     "text": [
      "0\n",
      "12\n",
      "45.21\n",
      "34\n",
      "99.91\n",
      "[-17.77777777777778, -11.11111111111111, 7.33888888888889, 1.1111111111111112, 37.727777777777774]\n"
     ]
    }
   ],
   "source": [
    " #Question 12\n",
    "feh_array = [0,12,45.21,34,99.91]\n",
    "cel_array = []\n",
    "for i in feh_array:\n",
    "    cel_array.append((5*(i-32)/9))\n",
    "    print(i)\n",
    "print(cel_array)\n",
    "    #feh_array[i]=(9/5*cel_array[i])-32\n"
   ]
  },
  {
   "cell_type": "code",
   "execution_count": 45,
   "id": "f26067b0",
   "metadata": {},
   "outputs": [
    {
     "name": "stdout",
     "output_type": "stream",
     "text": [
      "Size of the array 3\n",
      "Lenght of one array element 4\n",
      "Total Byte consumed by the elements 12\n"
     ]
    }
   ],
   "source": [
    "#Question 13\n",
    "x = [1,2,3]\n",
    "x = np.array(x)\n",
    "print(\"Size of the array\",x.size)\n",
    "print(\"Lenght of one array element\",x.itemsize)\n",
    "print(\"Total Byte consumed by the elements\",x.nbytes)"
   ]
  },
  {
   "cell_type": "code",
   "execution_count": 46,
   "id": "5dddee2e",
   "metadata": {},
   "outputs": [
    {
     "name": "stdout",
     "output_type": "stream",
     "text": [
      "[10, 40]\n"
     ]
    }
   ],
   "source": [
    "#Question 14\n",
    "array1 = [0,10,20,40, 60]\n",
    "array2 = [10,30,40]\n",
    "common = []\n",
    "for i in array1:\n",
    "    for k in array2:\n",
    "        if i==k:\n",
    "            common.append(i)\n",
    "print(common)\n",
    "\n",
    "    "
   ]
  },
  {
   "cell_type": "code",
   "execution_count": 47,
   "id": "d56b84b3",
   "metadata": {},
   "outputs": [
    {
     "name": "stdout",
     "output_type": "stream",
     "text": [
      "Unique elements of array1: [10 20 30]\n",
      "Unique elements of array2: [1 2 3]\n"
     ]
    }
   ],
   "source": [
    "#Question 15\n",
    "array1 = np.array([10, 10, 20, 20, 30, 30])\n",
    "print(\"Unique elements of array1:\",np.unique(array1))\n",
    "array2 = np.array([[1, 1], [2, 3]])\n",
    "print(\"Unique elements of array2:\",np.unique(array2))\n",
    "\n"
   ]
  },
  {
   "cell_type": "code",
   "execution_count": 48,
   "id": "f4d04acd",
   "metadata": {},
   "outputs": [
    {
     "name": "stdout",
     "output_type": "stream",
     "text": [
      "[ 0 20 80]\n"
     ]
    }
   ],
   "source": [
    "#Question 16\n",
    "array1 = np.array([0,10,20,40,60,80])\n",
    "array2 = np.array([10, 30,40,50,60])\n",
    "print(np.setdiff1d(array1,array2))"
   ]
  },
  {
   "cell_type": "code",
   "execution_count": 49,
   "id": "7e2a86d0",
   "metadata": {},
   "outputs": [
    {
     "name": "stdout",
     "output_type": "stream",
     "text": [
      "[ 0 20 30 50 60 70 80]\n"
     ]
    }
   ],
   "source": [
    "#Question 17\n",
    "array2 = np.array([10, 30,40,50,70])\n",
    "print(np.setxor1d(array1, array2))"
   ]
  },
  {
   "cell_type": "code",
   "execution_count": 50,
   "id": "c07fa30f",
   "metadata": {},
   "outputs": [
    {
     "name": "stdout",
     "output_type": "stream",
     "text": [
      "[ 0 10 20 30 40 50 60 70 80]\n"
     ]
    }
   ],
   "source": [
    "#Question 18\n",
    "array1 = np.array([0, 10, 20, 40, 60, 80])\n",
    "array2 = [10, 30, 40, 50, 70]\n",
    "print(np.union1d(array1, array2))"
   ]
  },
  {
   "cell_type": "code",
   "execution_count": 51,
   "id": "5ca9172c",
   "metadata": {},
   "outputs": [
    {
     "name": "stdout",
     "output_type": "stream",
     "text": [
      "False\n",
      "True\n",
      "False\n",
      "True\n"
     ]
    }
   ],
   "source": [
    "#Question 19\n",
    "print(np.all([[True,False],[True,True]]))\n",
    "print(np.all([[True,True],[True,True]]))\n",
    "print(np.all([10, 20, 0, -50]))\n",
    "print(np.all([10, 20, -50]))"
   ]
  },
  {
   "cell_type": "code",
   "execution_count": 52,
   "id": "a3a365b1",
   "metadata": {},
   "outputs": [
    {
     "name": "stdout",
     "output_type": "stream",
     "text": [
      "The largest value is: 6\n",
      "The smallest value is: 1\n"
     ]
    }
   ],
   "source": [
    "#Question 20\n",
    "array = [1,2,3,4,5,6]\n",
    "arrayMax = array[0]\n",
    "arrayMin = array[0]\n",
    "for i in array:\n",
    "    if i>arrayMax:\n",
    "        arrayMax=i\n",
    "    if i<arrayMin:\n",
    "        arrayMin=i\n",
    "print(\"The largest value is:\",arrayMax)\n",
    "print(\"The smallest value is:\",arrayMin)\n",
    "    \n"
   ]
  },
  {
   "cell_type": "code",
   "execution_count": 53,
   "id": "f7db240b",
   "metadata": {},
   "outputs": [
    {
     "name": "stdout",
     "output_type": "stream",
     "text": [
      "Values bigger than 10 = [20 20 30 40]\n",
      "Their indices are  (array([0, 1, 1, 1], dtype=int64), array([2, 0, 1, 2], dtype=int64))\n"
     ]
    }
   ],
   "source": [
    "#Question 21\n",
    "#For printing out indices values, np.nonzero is in use\n",
    "values = np.array([[0, 10, 20], [20, 30, 40]])\n",
    "print(\"Values bigger than 10 =\", values[values>10])\n",
    "print(\"Their indices are \", np.nonzero(values > 10))"
   ]
  },
  {
   "cell_type": "code",
   "execution_count": 55,
   "id": "adb9ca07",
   "metadata": {},
   "outputs": [
    {
     "name": "stdout",
     "output_type": "stream",
     "text": [
      "Array of Zeros: [ 0.  0.  0.  0.  0.  0. 11.  0.  0.  0.]\n",
      "Array of Ones: [[1. 1.]]\n"
     ]
    }
   ],
   "source": [
    "#Question 22\n",
    "arrayeros = np.zeros((1,2))\n",
    "arrayOnes = np.ones((1,2))\n",
    "print(\"Array of Zeros:\",arrayZeros)\n",
    "print(\"Array of Ones:\",arrayOnes)"
   ]
  },
  {
   "cell_type": "code",
   "execution_count": 56,
   "id": "d9a02733",
   "metadata": {},
   "outputs": [
    {
     "name": "stdout",
     "output_type": "stream",
     "text": [
      "[10 20 30 20 40 50]\n"
     ]
    }
   ],
   "source": [
    "#Question 23\n",
    "print(np.ravel([[10,20,30],[20,40,50]]))"
   ]
  },
  {
   "cell_type": "code",
   "execution_count": 57,
   "id": "3660c2ce",
   "metadata": {},
   "outputs": [
    {
     "name": "stdout",
     "output_type": "stream",
     "text": [
      "[[1 2 3]\n",
      " [4 5 6]]\n"
     ]
    }
   ],
   "source": [
    "#Question 24\n",
    "array = [[1,2],[3,4],[5,6]]\n",
    "print(np.reshape(array,(2,3)))"
   ]
  },
  {
   "cell_type": "code",
   "execution_count": 58,
   "id": "2a283ba6",
   "metadata": {},
   "outputs": [
    {
     "name": "stdout",
     "output_type": "stream",
     "text": [
      "Orginal Array [[ 2  4  6]\n",
      " [ 6  8 10]]\n",
      "int32\n",
      "Updated Array [[ 2.  4.  6.]\n",
      " [ 6.  8. 10.]]\n",
      "float64\n"
     ]
    }
   ],
   "source": [
    "#Question 25\n",
    "arrayInt = [[2,4,6],[6,8,10]]\n",
    "arrayInt = np.array(arrayInt)\n",
    "print('Orginal Array',arrayInt)\n",
    "print(arrayInt.dtype)\n",
    "arrayInt = arrayInt.astype('float64')\n",
    "print('Updated Array',arrayInt)\n",
    "print(arrayInt.dtype)"
   ]
  },
  {
   "cell_type": "code",
   "execution_count": 59,
   "id": "18d66a86",
   "metadata": {},
   "outputs": [
    {
     "name": "stdout",
     "output_type": "stream",
     "text": [
      "[  100.           141.25375446   199.5262315    281.83829313\n",
      "   398.10717055   562.34132519   794.32823472  1122.0184543\n",
      "  1584.89319246  2238.72113857  3162.27766017  4466.83592151\n",
      "  6309.5734448   8912.50938134 12589.25411794 17782.79410039\n",
      " 25118.8643151  35481.33892336 50118.72336273 70794.57843841]\n"
     ]
    }
   ],
   "source": [
    "#Question 26\n",
    "print(np.logspace(2, 5, 20, endpoint=False))"
   ]
  },
  {
   "cell_type": "code",
   "execution_count": 60,
   "id": "63d447a1",
   "metadata": {},
   "outputs": [
    {
     "data": {
      "text/plain": [
       "array([[ 0,  1,  3,  0,  2,  4],\n",
       "       [ 5,  7,  9,  6,  8, 10]])"
      ]
     },
     "execution_count": 60,
     "metadata": {},
     "output_type": "execute_result"
    }
   ],
   "source": [
    "#Question 27\n",
    "arrayof2Da=[[0,1,3],[5,7,9]]\n",
    "arrayof2Db=[[0,2,4],[6,8,10]]\n",
    "arrayof2Da=np.array(arrayof2Da)\n",
    "arrayof2Db=np.array(arrayof2Db)\n",
    "np.concatenate((arrayof2Da,arrayof2Db),1)"
   ]
  },
  {
   "cell_type": "code",
   "execution_count": 61,
   "id": "9945ecef",
   "metadata": {},
   "outputs": [
    {
     "name": "stdout",
     "output_type": "stream",
     "text": [
      "[ 1  2  3  4  5  6  7  8  9 10 11 12 13 14]\n",
      "[array([1, 2]), array([3, 4, 5, 6]), array([ 7,  8,  9, 10, 11, 12, 13, 14])]\n"
     ]
    }
   ],
   "source": [
    "#Question 28\n",
    "array = np.arange(1, 15)\n",
    "print(array)\n",
    "print(np.split(array, [2, 6]))"
   ]
  },
  {
   "cell_type": "code",
   "execution_count": 62,
   "id": "57e55a11",
   "metadata": {},
   "outputs": [
    {
     "name": "stdout",
     "output_type": "stream",
     "text": [
      "Original array: [[ 0  1  2  3]\n",
      " [ 4  5  6  7]\n",
      " [ 8  9 10 11]\n",
      " [12 13 14 15]]\n",
      "After splitting horizontally:\n",
      "[array([[ 0,  1],\n",
      "       [ 4,  5],\n",
      "       [ 8,  9],\n",
      "       [12, 13]]), array([[ 2,  3],\n",
      "       [ 6,  7],\n",
      "       [10, 11],\n",
      "       [14, 15]]), array([], shape=(4, 0), dtype=int32)]\n"
     ]
    }
   ],
   "source": [
    "#Question 29\n",
    "x = np.arange(16).reshape((4, 4))\n",
    "print(\"Original array:\",x)\n",
    "print(\"After splitting horizontally:\")\n",
    "print(np.hsplit(x, [2, 6]))"
   ]
  },
  {
   "cell_type": "code",
   "execution_count": 63,
   "id": "78e9563b",
   "metadata": {},
   "outputs": [
    {
     "name": "stdout",
     "output_type": "stream",
     "text": [
      "The total number of non zero element is:5\n"
     ]
    }
   ],
   "source": [
    "#Question 30\n",
    "array = [[0,10,20],[20,30,40]]\n",
    "array = np.array(array)\n",
    "print(\"The total number of non zero element is:{}\".format(np.count_nonzero(array)))"
   ]
  },
  {
   "cell_type": "code",
   "execution_count": 64,
   "id": "622dd4de",
   "metadata": {},
   "outputs": [
    {
     "name": "stdout",
     "output_type": "stream",
     "text": [
      "[[ 10  20  30 100]\n",
      " [ 40  50  60 200]]\n"
     ]
    }
   ],
   "source": [
    "#Question 31\n",
    "array_x = [[10,20,30],[40,50,60]]\n",
    "array_x = np.array(array_x)\n",
    "array_y = [[100],[200]]\n",
    "array_y = np.array(array_y)\n",
    "print(np.append(array_x,array_y,axis=1))"
   ]
  },
  {
   "cell_type": "code",
   "execution_count": 65,
   "id": "267fd44e",
   "metadata": {},
   "outputs": [
    {
     "name": "stdout",
     "output_type": "stream",
     "text": [
      "[ 0 -4  0  2  3  4  5  0]\n"
     ]
    }
   ],
   "source": [
    "#Question 32\n",
    "array = [-1,-4,0,2,3,4,5,-6]\n",
    "array = np.array(array)\n",
    "for (a) in array:\n",
    "       if array[a]<0:\n",
    "            array[a]=0\n",
    "print(array)\n"
   ]
  },
  {
   "cell_type": "code",
   "execution_count": 66,
   "id": "fb28a3aa",
   "metadata": {},
   "outputs": [
    {
     "name": "stdout",
     "output_type": "stream",
     "text": [
      "The array: [[ 1.  2.  3.]\n",
      " [ 4.  5. nan]\n",
      " [ 7.  8.  9.]\n",
      " [ 1.  0.  1.]]\n",
      "[[1. 2. 3.]\n",
      " [7. 8. 9.]\n",
      " [1. 0. 1.]]\n"
     ]
    }
   ],
   "source": [
    "#Question 33\n",
    "#This code removes all the row that contains non numeric variable\n",
    "#To generate nonnumeric varible np.nan is applied\n",
    "array = np.array([[1,2,3], [4,5,np.nan], [7,8,9], [1, 0, 1]])\n",
    "print(\"The array:\", array)\n",
    "print(array[~np.isnan(array).any(axis=1)])"
   ]
  },
  {
   "cell_type": "code",
   "execution_count": 67,
   "id": "5f54b285",
   "metadata": {},
   "outputs": [
    {
     "name": "stdout",
     "output_type": "stream",
     "text": [
      "e\n",
      "i\n"
     ]
    }
   ],
   "source": [
    "#Question 34\n",
    "a = np.array([97,101,105,111,117])\n",
    "b = np.array(['a','e','i','o','u'])\n",
    "for i in range(0,len(a)):\n",
    "       if(a[i]>100 and a[i]<110):\n",
    "            print(b[i])\n"
   ]
  },
  {
   "cell_type": "code",
   "execution_count": 68,
   "id": "6c787143",
   "metadata": {},
   "outputs": [
    {
     "name": "stdout",
     "output_type": "stream",
     "text": [
      "Frequency of unique values of the said array:\n",
      "[[10 20 30 40 50]\n",
      " [ 3  4  2  2  1]]\n"
     ]
    }
   ],
   "source": [
    "#Question 35\n",
    "array = np.array( [10,10,20,10,20,20,20,30, 30,50,40,40] )\n",
    "elements, counts = np.unique(array, return_counts=True)\n",
    "print(\"Frequency of unique values of the said array:\")\n",
    "print(np.asarray((elements, counts)))"
   ]
  },
  {
   "cell_type": "code",
   "execution_count": 69,
   "id": "a8c7dab2",
   "metadata": {},
   "outputs": [
    {
     "name": "stdout",
     "output_type": "stream",
     "text": [
      "[[2 3]\n",
      " [5 6]\n",
      " [8 9]]\n"
     ]
    }
   ],
   "source": [
    "#Question 36\n",
    "array = np.array([[1, 2, 3], [4, 5, 6], [7, 8, 9]])\n",
    "print(array[:,[1,2]])"
   ]
  },
  {
   "cell_type": "code",
   "execution_count": 70,
   "id": "4d5e60d2",
   "metadata": {},
   "outputs": [
    {
     "name": "stdout",
     "output_type": "stream",
     "text": [
      "1\n",
      "3\n",
      "5\n"
     ]
    }
   ],
   "source": [
    "#Question 37\n",
    "array = [1,0,2,0,3,0,4,5,6,7,8]\n",
    "array = np.array(array)\n",
    "for i in range(0,len(array)):\n",
    "    if array[i]==0:\n",
    "        print(i)\n",
    "\n"
   ]
  },
  {
   "cell_type": "code",
   "execution_count": null,
   "id": "85badf6d",
   "metadata": {},
   "outputs": [],
   "source": []
  }
 ],
 "metadata": {
  "kernelspec": {
   "display_name": "Python 3 (ipykernel)",
   "language": "python",
   "name": "python3"
  },
  "language_info": {
   "codemirror_mode": {
    "name": "ipython",
    "version": 3
   },
   "file_extension": ".py",
   "mimetype": "text/x-python",
   "name": "python",
   "nbconvert_exporter": "python",
   "pygments_lexer": "ipython3",
   "version": "3.10.4"
  }
 },
 "nbformat": 4,
 "nbformat_minor": 5
}
